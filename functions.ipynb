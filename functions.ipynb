{
  "nbformat": 4,
  "nbformat_minor": 0,
  "metadata": {
    "colab": {
      "provenance": []
    },
    "kernelspec": {
      "name": "python3",
      "display_name": "Python 3"
    },
    "language_info": {
      "name": "python"
    }
  },
  "cells": [
    {
      "cell_type": "markdown",
      "source": [
        "1. What is the difference between a function and a method in Python?\n",
        "\n",
        ">A function in Python is an independent block of reusable code that is not tied to any object, whereas a method is a function defined inside a class that operates on instances of that class. Methods typically take self as their first parameter to access object attributes, while functions do not. Functions can be called on their own, but methods must be called on an instance of a class.\n",
        "\n",
        "2. Explain the concept of function arguments and parameters in Python.\n",
        "\n",
        ">In Python parameters and arguments refer to values used in functions. Parameters are variables listed in a function definition, while arguments are actual values passed to the function when it is called.\n",
        "\n",
        "3. What are the different ways to define and call a function in Python?\n",
        "\n",
        ">defining functions\n",
        "(a)\n",
        "def add(a, b):\n",
        "    return a + b\n",
        "(b)\n",
        "def greet(name=\"Guest\"):\n",
        "    return (f\"Hello, {name}!)\n",
        "(c)\n",
        "add = lambda x, y: x + y\n",
        "we can call these functions by giving arguments and providing values in lambda functions\n",
        "\n",
        "4.  What is the purpose of the `return` statement in a Python function?\n",
        "\n",
        ">It terminates the function’s execution and specifies what value should be returned and provide result value to the caller\n",
        "\n",
        "5. What are iterators in Python and how do they differ from iterables?\n",
        "\n",
        ">In Python, an iterator is an object that enables sequential access to elements in a collection without needing to store the entire collection in memory. An iterable, on the other hand, is any object that can produce an iterator.\n",
        "\n",
        "6. Explain the concept of generators in Python and how they are defined.\n",
        "\n",
        ">Generators are a special type of iterator in Python that allow one by one evaluation, meaning they generate values one at a time as needed rather than storing them all in memory. This makes them memory-efficient for working with large datasets or infinite sequences.\n",
        "\n",
        "7. What are the advantages of using generators over regular functions?\n",
        "> Generators offer memory efficiency by yielding values one at a time instead of storing them all. They enable lazy evaluation, prong results only when needed. Generators retain state, allowing them to resume execution from where they left off. They execute faster since they don't compute everything upfront. They also automatically implement iterators, reducing boilerplate code. Additionally, generators simplify iteration and support infinite sequences without exhausting memory, making them ideal for large datasets and real-time data processing.\n",
        "\n",
        "8. What is a lambda function in Python and when is it typically used?\n",
        "> A lambda function in Python is an anonymous, single-expression function defined using the lambda keyword. It returns the result of its expression without needing an explicit return statement.\n",
        "\n",
        "9.  Explain the purpose and usage of the `map()` function in Python.\n",
        "> The map() function applies a given function to each item in an iterable (e.g., list, tuple) and returns an iterator with the results. It helps process data efficiently without using explicit loops.\n",
        "\n",
        "10.  What is the difference between `map()`, `reduce()`, and `filter()` functions in Python?\n",
        "> map(), filter(), and reduce() are functional programming tools in Python that operate on iterables.\n",
        "\n",
        "map(function, iterable) applies a function to each element and returns an iterator of transformed values.\n",
        "filter(function, iterable) selects elements that satisfy a condition, returning only those for which the function returns True.\n",
        "reduce(function, iterable) (from functools) applies a function cumulatively, reducing the iterable to a single value."
      ],
      "metadata": {
        "id": "hU34xaVdP-tz"
      }
    },
    {
      "cell_type": "code",
      "source": [
        "#1. Write a Python function that takes a list of numbers as input and returns the sum of all even numbers in\n",
        "#the list.\n",
        "def sumeven(l):\n",
        "  sum=0\n",
        "  for i in l:\n",
        "    if (i%2==0):\n",
        "      sum=sum+i\n",
        "  return sum\n",
        "sumeven([1,2,3,4,5,6,7,8])\n"
      ],
      "metadata": {
        "colab": {
          "base_uri": "https://localhost:8080/"
        },
        "id": "FSoIQqwURTU8",
        "outputId": "62d6f655-5783-4151-e4a9-41e0047d0b88"
      },
      "execution_count": null,
      "outputs": [
        {
          "output_type": "execute_result",
          "data": {
            "text/plain": [
              "20"
            ]
          },
          "metadata": {},
          "execution_count": 6
        }
      ]
    },
    {
      "cell_type": "code",
      "source": [
        "#2.Create a Python function that accepts a string and returns the reverse of that string.\n",
        "def reversestr(s):\n",
        "  return s[::-1]\n",
        "reversestr('hello')"
      ],
      "metadata": {
        "colab": {
          "base_uri": "https://localhost:8080/",
          "height": 35
        },
        "id": "P_MfqSYjTFLG",
        "outputId": "7f18a14f-2ac1-474d-8567-e6082f8e8ec7"
      },
      "execution_count": null,
      "outputs": [
        {
          "output_type": "execute_result",
          "data": {
            "text/plain": [
              "'olleh'"
            ],
            "application/vnd.google.colaboratory.intrinsic+json": {
              "type": "string"
            }
          },
          "metadata": {},
          "execution_count": 7
        }
      ]
    },
    {
      "cell_type": "code",
      "source": [
        "#3. Implement a Python function that takes a list of integers and returns a new list containing the squares of\n",
        "#each number.\n",
        "def square(l):\n",
        "  l2=[]\n",
        "  for i in l:\n",
        "    l2.append(i**2)\n",
        "  return l2\n",
        "square([1,2,3,4,5,6,7])"
      ],
      "metadata": {
        "colab": {
          "base_uri": "https://localhost:8080/"
        },
        "id": "oN6-_DvaYvYV",
        "outputId": "6af84164-0d7c-42d8-a8c4-f72f7aa8bbd0"
      },
      "execution_count": null,
      "outputs": [
        {
          "output_type": "execute_result",
          "data": {
            "text/plain": [
              "[1, 4, 9, 16, 25, 36, 49]"
            ]
          },
          "metadata": {},
          "execution_count": 10
        }
      ]
    },
    {
      "cell_type": "code",
      "source": [
        "#4. Write a Python function that checks if a given number is prime or not from 1 to 200.\n",
        "def is_prime(n):\n",
        "    if n < 2:\n",
        "        return False\n",
        "    for i in range(2, int(n*0.5) + 1):\n",
        "        if n % i == 0:\n",
        "            return False\n",
        "    return True\n",
        "is_prime(12)"
      ],
      "metadata": {
        "colab": {
          "base_uri": "https://localhost:8080/"
        },
        "id": "WwERu9tiZcKH",
        "outputId": "ef5c059e-08fa-44a8-8bc8-4e759f54f9ac"
      },
      "execution_count": null,
      "outputs": [
        {
          "output_type": "execute_result",
          "data": {
            "text/plain": [
              "False"
            ]
          },
          "metadata": {},
          "execution_count": 14
        }
      ]
    },
    {
      "cell_type": "code",
      "source": [
        "#5. Create an iterator class in Python that generates the Fibonacci sequence up to a specified number of\n",
        "#terms.\n",
        "def fibonacci(n):\n",
        "\n",
        "    l = [0,1]\n",
        "    for i in range(2,n):\n",
        "        l.append(l[-1]+l[-2])\n",
        "    return l\n",
        "fibonacci(8)\n"
      ],
      "metadata": {
        "colab": {
          "base_uri": "https://localhost:8080/"
        },
        "id": "p_UPQTJTbR2J",
        "outputId": "5d064c93-a2ee-4043-d9a2-599da0bf3732"
      },
      "execution_count": null,
      "outputs": [
        {
          "output_type": "execute_result",
          "data": {
            "text/plain": [
              "[0, 1, 1, 2, 3, 5, 8, 13]"
            ]
          },
          "metadata": {},
          "execution_count": 15
        }
      ]
    },
    {
      "cell_type": "code",
      "source": [
        "#6. Write a generator function in Python that yields the powers of 2 up to a given exponent\n",
        "def power2(l):\n",
        "  for i in range(l):\n",
        "    yield 2**i\n",
        "for i in power2(6):\n",
        "  print(i)"
      ],
      "metadata": {
        "colab": {
          "base_uri": "https://localhost:8080/"
        },
        "id": "IRCGLPudchmY",
        "outputId": "6c114f39-3444-40f8-d00b-b96e2a873cf4"
      },
      "execution_count": null,
      "outputs": [
        {
          "output_type": "stream",
          "name": "stdout",
          "text": [
            "1\n",
            "2\n",
            "4\n",
            "8\n",
            "16\n",
            "32\n"
          ]
        }
      ]
    },
    {
      "cell_type": "code",
      "source": [
        "#7. Implement a generator function that reads a file line by line and yields each line as a string.\n"
      ],
      "metadata": {
        "id": "DIy4jHnFcrll"
      },
      "execution_count": null,
      "outputs": []
    },
    {
      "cell_type": "code",
      "source": [
        "#8.Use a lambda function in Python to sort a list of tuples based on the second element of each tuple.\n",
        "data = [(1, 5), (3, 2), (4, 8), (2, 1)]\n",
        "\n",
        "sorted_data = sorted(data, key=lambda x: x[1])\n",
        "\n",
        "print(sorted_data)"
      ],
      "metadata": {
        "colab": {
          "base_uri": "https://localhost:8080/"
        },
        "id": "zuMAugIJcxvD",
        "outputId": "a6fc90af-9085-40fb-de31-d7c54ec7e1cc"
      },
      "execution_count": null,
      "outputs": [
        {
          "output_type": "stream",
          "name": "stdout",
          "text": [
            "[(2, 1), (3, 2), (1, 5), (4, 8)]\n"
          ]
        }
      ]
    },
    {
      "cell_type": "code",
      "source": [
        "#9.Write a Python program that uses `map()` to convert a list of temperatures from Celsius to Fahrenheit.\n",
        "l=[23,44,55,34]\n",
        "def c_to_f(i):\n",
        "   return (i*1.8)+32\n",
        "list(map(c_to_f,l))"
      ],
      "metadata": {
        "colab": {
          "base_uri": "https://localhost:8080/"
        },
        "id": "0qSSbFFMkAaA",
        "outputId": "8d08495e-6a78-40d2-c400-833b90c05351"
      },
      "execution_count": null,
      "outputs": [
        {
          "output_type": "execute_result",
          "data": {
            "text/plain": [
              "[73.4, 111.2, 131.0, 93.2]"
            ]
          },
          "metadata": {},
          "execution_count": 22
        }
      ]
    },
    {
      "cell_type": "code",
      "source": [
        "#10. Create a Python program that uses `filter()` to remove all the vowels from a given string.\n",
        "s = \"Hello, this is a sample string with vowels.\"\n",
        "vowels = \"aeiouAEIOU\"\n",
        "a= ''.join(list(filter(lambda char: char not in vowels, s)))\n",
        "a"
      ],
      "metadata": {
        "colab": {
          "base_uri": "https://localhost:8080/",
          "height": 35
        },
        "id": "gfx6ih5mlfFA",
        "outputId": "e2a4e264-711c-42e0-b77f-cc78f0912def"
      },
      "execution_count": null,
      "outputs": [
        {
          "output_type": "execute_result",
          "data": {
            "text/plain": [
              "'hello welcome'"
            ],
            "application/vnd.google.colaboratory.intrinsic+json": {
              "type": "string"
            }
          },
          "metadata": {},
          "execution_count": 25
        }
      ]
    },
    {
      "cell_type": "code",
      "source": [
        "#11) Imagine an accounting routine used in a book shop. It works on a list with sublists, which look like this:\n",
        "#Write a Python program, which returns a list with 2-tuples. Each tuple consists of the order number and the\n",
        "#product of the price per item and the quantity. The product should be increased by 10,- € if the value of the\n",
        "#order is smaller than 100,00 €.\n",
        "#Write a Python program using lambda and map.\n",
        "orders = [\n",
        "    [34587, \"Learning Python, Mark Lutz\", 40.95, 4],\n",
        "    [98762, \"Programming Python, Mark Lutz\", 56.80, 5],\n",
        "    [77226, \"Head First Python, Paul Barry\", 32.95, 3],\n",
        "    [88112, \"Einführung in Python3, Bernd Klein\", 24.99, 3]\n",
        "]\n",
        "\n",
        "processed_orders = list(map(\n",
        "    lambda x: (x[0], x[2] * x[3] + (10 if x[2] * x[3] < 100 else 0), ),\n",
        "    orders\n",
        "))\n",
        "\n",
        "print(processed_orders)\n",
        "\n"
      ],
      "metadata": {
        "colab": {
          "base_uri": "https://localhost:8080/"
        },
        "id": "96-X8IZEoJFl",
        "outputId": "f8d0d81d-6b3e-4c99-de7d-d38a008de98b"
      },
      "execution_count": 3,
      "outputs": [
        {
          "output_type": "stream",
          "name": "stdout",
          "text": [
            "[(34587, 163.8), (98762, 284.0), (77226, 108.85000000000001), (88112, 84.97)]\n"
          ]
        }
      ]
    }
  ]
}